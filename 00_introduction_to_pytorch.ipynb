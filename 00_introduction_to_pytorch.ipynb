{
  "nbformat": 4,
  "nbformat_minor": 0,
  "metadata": {
    "colab": {
      "provenance": [],
      "gpuType": "T4",
      "authorship_tag": "ABX9TyMDUFN2lbnBHPSRKBH4/fEF",
      "include_colab_link": true
    },
    "kernelspec": {
      "name": "python3",
      "display_name": "Python 3"
    },
    "language_info": {
      "name": "python"
    },
    "accelerator": "GPU"
  },
  "cells": [
    {
      "cell_type": "markdown",
      "metadata": {
        "id": "view-in-github",
        "colab_type": "text"
      },
      "source": [
        "<a href=\"https://colab.research.google.com/github/newjay608/LearnPyTorch/blob/main/00_introduction_to_pytorch.ipynb\" target=\"_parent\"><img src=\"https://colab.research.google.com/assets/colab-badge.svg\" alt=\"Open In Colab\"/></a>"
      ]
    },
    {
      "cell_type": "markdown",
      "source": [
        "# Introduction to PyTorch"
      ],
      "metadata": {
        "id": "r2iTaqG-mtdl"
      }
    },
    {
      "cell_type": "code",
      "source": [
        "import sys\n",
        "import platform\n",
        "import torch\n",
        "import numpy as np\n",
        "import pandas as pd\n",
        "import sklearn as sk"
      ],
      "metadata": {
        "id": "otb_A8mlnVSH"
      },
      "execution_count": 2,
      "outputs": []
    },
    {
      "cell_type": "code",
      "source": [
        "has_gpu = torch.cuda.is_available()\n",
        "has_mps = torch.backends.mps.is_built()\n",
        "\n",
        "device = \"mps\" if torch.backends.mps.is_available() \\\n",
        "  else \"gpu\" if torch.cuda.is_available() else \"cpu\"\n",
        "\n",
        "print(f\"Python Platform: {platform.platform()}\")\n",
        "print(f\"PyTorch Version: {torch.__version__}\")\n",
        "print()\n",
        "print(f\"Python Version {sys.version_info}\")\n",
        "print(f\"Pandas Version {pd.__version__}\")\n",
        "print(f\"Scikit Version {sk.__version__}\")\n",
        "print(f\"GPU is available \"if has_gpu else \"GPU NOT AVIALABLE\")\n",
        "print(f\"MPS (Apple Metal) is available \"if has_gpu else \"APLLE METAL NOT AVIALABLE\")\n",
        "print(f\"Target Device {device}\")"
      ],
      "metadata": {
        "colab": {
          "base_uri": "https://localhost:8080/"
        },
        "id": "i-sVg6WTnZaG",
        "outputId": "027018dc-03f8-4ff2-f957-4fb89dea63db"
      },
      "execution_count": 3,
      "outputs": [
        {
          "output_type": "stream",
          "name": "stdout",
          "text": [
            "Python Platform: Linux-6.1.58+-x86_64-with-glibc2.35\n",
            "PyTorch Version: 2.1.0+cu121\n",
            "\n",
            "Python Version sys.version_info(major=3, minor=10, micro=12, releaselevel='final', serial=0)\n",
            "Pandas Version 1.5.3\n",
            "Scikit Version 1.2.2\n",
            "GPU is available \n",
            "MPS (Apple Metal) is available \n",
            "Target Device gpu\n"
          ]
        }
      ]
    },
    {
      "cell_type": "markdown",
      "source": [
        "## Creating Tensors\n",
        "\n",
        "Tensors are immutable, algebraic object that decribes a multilinear realitionship between sets of algebraic objrects in a vector space\n",
        "\n",
        "Its a multi-dimensional array of numbers, but they are not just numbers, but they also have geometry and the object is invariant undera change of coordiantes and has compoenents that change in special, predictable way under a change of cooridnates. Change of cooridnates here means you can apply any cooridnate system the lentgh (maginidute) is invariate. The components change with each coordiante system in which the vector is placed\n",
        "\n",
        "A simplistic example of tensor is a scalar, scalars as just a number"
      ],
      "metadata": {
        "id": "6MXRUBMEpzD-"
      }
    },
    {
      "cell_type": "code",
      "source": [
        "scalar = torch.tensor(7)\n",
        "print(f\"scalar {scalar}\")\n",
        "print(f\"scalar item value {scalar.item()}\")\n",
        "print(f\"scalar ndim {scalar.ndim}\")\n",
        "print(f\"scalar shape {scalar.shape}\")\n"
      ],
      "metadata": {
        "colab": {
          "base_uri": "https://localhost:8080/"
        },
        "id": "A3HZC6JHqCg3",
        "outputId": "030b7743-2cfc-4e82-e70b-222a13868afc"
      },
      "execution_count": 4,
      "outputs": [
        {
          "output_type": "stream",
          "name": "stdout",
          "text": [
            "scalar 7\n",
            "scalar item value 7\n",
            "scalar ndim 0\n",
            "scalar shape torch.Size([])\n"
          ]
        }
      ]
    },
    {
      "cell_type": "code",
      "source": [
        "vector = torch.tensor([7,7])\n",
        "print(f\"vector {vector}\")\n",
        "print(f\"vector ndim {vector.ndim}\")\n",
        "print(f\"vector shape {vector.shape}\")"
      ],
      "metadata": {
        "colab": {
          "base_uri": "https://localhost:8080/"
        },
        "id": "pziqDMKnrLM3",
        "outputId": "e1cf98ef-aaf5-4e83-ac4e-ecc90155509e"
      },
      "execution_count": 5,
      "outputs": [
        {
          "output_type": "stream",
          "name": "stdout",
          "text": [
            "vector tensor([7, 7])\n",
            "vector ndim 1\n",
            "vector shape torch.Size([2])\n"
          ]
        }
      ]
    },
    {
      "cell_type": "code",
      "source": [
        "MATRIX = torch.tensor([[7,8],\n",
        "                       [9,10],\n",
        "                       [11,3]])\n",
        "print(f\"vector {MATRIX}\")\n",
        "print(f\"vector ndim {MATRIX.ndim}\")\n",
        "print(f\"vector shape {MATRIX.shape}\")\n",
        "print(f\"first element {MATRIX[0]}\")\n",
        "print(f\"second element {MATRIX[1]}\")"
      ],
      "metadata": {
        "colab": {
          "base_uri": "https://localhost:8080/"
        },
        "id": "yk4BC8Kct8a3",
        "outputId": "35e3ff39-a53e-4fba-e13d-c6291ff65a43"
      },
      "execution_count": 6,
      "outputs": [
        {
          "output_type": "stream",
          "name": "stdout",
          "text": [
            "vector tensor([[ 7,  8],\n",
            "        [ 9, 10],\n",
            "        [11,  3]])\n",
            "vector ndim 2\n",
            "vector shape torch.Size([3, 2])\n",
            "first element tensor([7, 8])\n",
            "second element tensor([ 9, 10])\n"
          ]
        }
      ]
    },
    {
      "cell_type": "code",
      "source": [
        "TENSOR = torch.tensor([[[1,2,3],\n",
        "                      [4,5,6],\n",
        "                      [7,8,9]]])\n",
        "print(f\"vector {TENSOR}\")\n",
        "print(f\"vector ndim {TENSOR.ndim}\")\n",
        "print(f\"vector shape {TENSOR.shape}\")"
      ],
      "metadata": {
        "colab": {
          "base_uri": "https://localhost:8080/"
        },
        "id": "Ln19ZTQZuffL",
        "outputId": "3239e7cd-78d1-4dc2-d178-4ce974f5c1da"
      },
      "execution_count": 7,
      "outputs": [
        {
          "output_type": "stream",
          "name": "stdout",
          "text": [
            "vector tensor([[[1, 2, 3],\n",
            "         [4, 5, 6],\n",
            "         [7, 8, 9]]])\n",
            "vector ndim 3\n",
            "vector shape torch.Size([1, 3, 3])\n"
          ]
        }
      ]
    },
    {
      "cell_type": "markdown",
      "source": [
        "Tensors can represent almost anything. The dimensions go outer to inner.\n",
        "  \n",
        "The above tensor can represent a sales number for three products in three stores\n",
        "or.\n",
        "first row can be days of the week and second and third rows can be stake and almond sales\n",
        "  \n",
        "**That means there's 1 dimension of 3 by 3.**\n",
        "\n",
        "Name: Scalar\n",
        "What is it?: a single number\n",
        "num of dimensions 0\n",
        "Lower or upper : Lower(a)\n",
        "  \n",
        "\n",
        "Name: Vector\n",
        "What is it?: a a number with directions\n",
        "num of dimensions 0\n",
        "Lower or upper: Lower (y)\n",
        "\n",
        "\n",
        "Name: Matrix\n",
        "What is it?: a 2-demensional array of numbers\n",
        "num of dimensions 2\n",
        "Lower or upper: Upper (Q)\n",
        "\n",
        "\n",
        "Name: Tensor\n",
        "What is it? an n-dimensional array of numbers\n",
        "number of dimensions: can be any number - a 0 dimension is a scalar; vector is a 1-dimensional tensor\n",
        "Lower or upper: Upper(X)\n",
        "\n",
        "\n"
      ],
      "metadata": {
        "id": "eUGzzbY9uzQg"
      }
    },
    {
      "cell_type": "markdown",
      "source": [
        "### Random tensors\n",
        "\n",
        "Why Random Tensors are important?\n",
        "Random tensors (numbers) is what DNNs learn and as they learn the models adjust these random tensors to better represent the data"
      ],
      "metadata": {
        "id": "oWLAp-IryAar"
      }
    },
    {
      "cell_type": "code",
      "source": [
        "random_tensor = torch.rand(3,4)\n",
        "print(random_tensor)\n",
        "print(f\"size {random_tensor.size()}\")\n",
        "print(f\"ndim {random_tensor.ndim}\")"
      ],
      "metadata": {
        "colab": {
          "base_uri": "https://localhost:8080/"
        },
        "id": "gWSJ2cK2FmKs",
        "outputId": "3767add5-4f88-4f92-8a53-f5cb223de7d4"
      },
      "execution_count": 11,
      "outputs": [
        {
          "output_type": "stream",
          "name": "stdout",
          "text": [
            "tensor([[0.8091, 0.7033, 0.4669, 0.2358],\n",
            "        [0.3401, 0.1988, 0.5193, 0.1521],\n",
            "        [0.7329, 0.8281, 0.9428, 0.2908]])\n",
            "size torch.Size([3, 4])\n",
            "ndim 2\n"
          ]
        }
      ]
    },
    {
      "cell_type": "code",
      "source": [
        "random_tensor = torch.rand(2, 5, 4)\n",
        "print(random_tensor)\n",
        "print(f\"size {random_tensor.shape}\")\n",
        "print(f\"ndim {random_tensor.ndim}\")"
      ],
      "metadata": {
        "colab": {
          "base_uri": "https://localhost:8080/"
        },
        "id": "aNAS35_SF1Pu",
        "outputId": "8527f888-3931-4072-84a1-5fb483e97bb2"
      },
      "execution_count": 15,
      "outputs": [
        {
          "output_type": "stream",
          "name": "stdout",
          "text": [
            "tensor([[[0.7295, 0.6315, 0.1369, 0.5716],\n",
            "         [0.7469, 0.5602, 0.3322, 0.9207],\n",
            "         [0.9513, 0.0192, 0.6869, 0.0060],\n",
            "         [0.9652, 0.4689, 0.8848, 0.5085],\n",
            "         [0.3057, 0.6807, 0.4737, 0.7017]],\n",
            "\n",
            "        [[0.5354, 0.4131, 0.7252, 0.3372],\n",
            "         [0.3943, 0.1439, 0.9396, 0.1744],\n",
            "         [0.0638, 0.6556, 0.7845, 0.2872],\n",
            "         [0.1093, 0.3783, 0.3128, 0.0570],\n",
            "         [0.5935, 0.7019, 0.2260, 0.8169]]])\n",
            "size torch.Size([2, 5, 4])\n",
            "ndim 3\n"
          ]
        }
      ]
    },
    {
      "cell_type": "code",
      "source": [
        "# create a random tesnor with similar shape to an image tensor, pytorch does the\n",
        "# work behind the scene to generate a tensor from an image\n",
        "random_image_size_tensor = torch.rand(size=(224,224,3))\n",
        "print(f\"size {random_image_size_tensor.shape}\")\n",
        "print(f\"ndim {random_image_size_tensor.ndim}\")"
      ],
      "metadata": {
        "colab": {
          "base_uri": "https://localhost:8080/"
        },
        "id": "aIYD-spzGY4M",
        "outputId": "92b6f92d-7eec-47a4-a1d5-b960c4badaa3"
      },
      "execution_count": 16,
      "outputs": [
        {
          "output_type": "stream",
          "name": "stdout",
          "text": [
            "size torch.Size([224, 224, 3])\n",
            "ndim 3\n"
          ]
        }
      ]
    },
    {
      "cell_type": "markdown",
      "source": [
        "### Zeros and Ones"
      ],
      "metadata": {
        "id": "zEZTFRA6IkkC"
      }
    },
    {
      "cell_type": "code",
      "source": [
        "# Create a tensor of all zeros\n",
        "zeros = torch.zeros(size =(1,3,3))\n",
        "print(zeros)\n",
        "print(f\"size {zeros.shape}\")\n",
        "print(f\"ndim {zeros.ndim}\")"
      ],
      "metadata": {
        "colab": {
          "base_uri": "https://localhost:8080/"
        },
        "id": "UosXl0vGJIEw",
        "outputId": "69d5b0de-15d4-4584-b96a-0544006dd5d4"
      },
      "execution_count": 18,
      "outputs": [
        {
          "output_type": "stream",
          "name": "stdout",
          "text": [
            "tensor([[[0., 0., 0.],\n",
            "         [0., 0., 0.],\n",
            "         [0., 0., 0.]]])\n",
            "size torch.Size([1, 3, 3])\n",
            "ndim 3\n"
          ]
        }
      ]
    },
    {
      "cell_type": "code",
      "source": [
        "ones = torch.ones(size =(2,3,3))\n",
        "print(ones)\n",
        "print(f\"size {ones.shape}\")\n",
        "print(f\"ndim {ones.ndim}\")"
      ],
      "metadata": {
        "colab": {
          "base_uri": "https://localhost:8080/"
        },
        "id": "B_7N2JK8JaH5",
        "outputId": "ac947f58-63a6-4a7d-8c31-934125881177"
      },
      "execution_count": 19,
      "outputs": [
        {
          "output_type": "stream",
          "name": "stdout",
          "text": [
            "tensor([[[1., 1., 1.],\n",
            "         [1., 1., 1.],\n",
            "         [1., 1., 1.]],\n",
            "\n",
            "        [[1., 1., 1.],\n",
            "         [1., 1., 1.],\n",
            "         [1., 1., 1.]]])\n",
            "size torch.Size([2, 3, 3])\n",
            "ndim 3\n"
          ]
        }
      ]
    },
    {
      "cell_type": "markdown",
      "source": [
        "### Create a range of tensors and tensors-like"
      ],
      "metadata": {
        "id": "SQA8lg40Jhhn"
      }
    },
    {
      "cell_type": "code",
      "source": [
        "# torch arange  - range function is depricated\n",
        "\n",
        "#depricated\n",
        "#one_to_ten = torch.range(1,11)\n",
        "#print(one_to_ten)\n",
        "\n",
        "one_to_ten = torch.arange(1,11)\n",
        "print(one_to_ten)\n",
        "\n",
        "# step\n",
        "one_to_thousand = torch.arange(1,1000, step=80)\n",
        "print(one_to_thousand)\n",
        "\n",
        "# creating tensors like\n",
        "ten_zeros = torch.zeros_like(one_to_ten)\n",
        "print(ten_zeros)"
      ],
      "metadata": {
        "colab": {
          "base_uri": "https://localhost:8080/"
        },
        "id": "RiN6xI0_Jvg7",
        "outputId": "768bfef0-5bc6-4223-c75c-221ffb3f3437"
      },
      "execution_count": 24,
      "outputs": [
        {
          "output_type": "stream",
          "name": "stdout",
          "text": [
            "tensor([ 1,  2,  3,  4,  5,  6,  7,  8,  9, 10])\n",
            "tensor([  1,  81, 161, 241, 321, 401, 481, 561, 641, 721, 801, 881, 961])\n",
            "tensor([0, 0, 0, 0, 0, 0, 0, 0, 0, 0])\n"
          ]
        }
      ]
    },
    {
      "cell_type": "markdown",
      "source": [
        "### Tensor datatypes\n",
        "\n",
        "**Note** : Tensor data is one of the big 3 errors in pytorch and deep learning\n",
        "1. Tensors not right datatype\n",
        "2. Tensors not right shape\n",
        "3. Tensors not on the right device"
      ],
      "metadata": {
        "id": "ZS9ddVT_KEjN"
      }
    },
    {
      "cell_type": "code",
      "source": [
        "#Float 32 tensor\n",
        "float32_tensor = torch.tensor([3.0,6.0,9.0],\n",
        "                              dtype=None, # what datatypes https://pytorch.org/docs/stable/tensors.html\n",
        "                              device=None, # What device is the tensor is on\n",
        "                              requires_grad=False) # to track gradients with this tensor or not\n",
        "print(float32_tensor)\n",
        "\n",
        "#Float 32 tensor\n",
        "float32_tensor2 = torch.tensor([3.0,6.0,9.0],\n",
        "                              dtype=None, # what datatypes https://pytorch.org/docs/stable/tensors.html\n",
        "                              device=\"cuda\",\n",
        "                              requires_grad=False)\n",
        "print(float32_tensor2)"
      ],
      "metadata": {
        "colab": {
          "base_uri": "https://localhost:8080/"
        },
        "id": "ItXq-klVLfZy",
        "outputId": "53b6800b-b5ed-4d74-e9dc-0e8dae09c8df"
      },
      "execution_count": 28,
      "outputs": [
        {
          "output_type": "stream",
          "name": "stdout",
          "text": [
            "tensor([3., 6., 9.])\n",
            "tensor([3., 6., 9.], device='cuda:0')\n"
          ]
        }
      ]
    },
    {
      "cell_type": "code",
      "source": [],
      "metadata": {
        "id": "DpfZrFUpN29_"
      },
      "execution_count": null,
      "outputs": []
    }
  ]
}